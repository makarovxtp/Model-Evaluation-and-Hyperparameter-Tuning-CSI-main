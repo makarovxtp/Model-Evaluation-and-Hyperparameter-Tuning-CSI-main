{
  "nbformat": 4,
  "nbformat_minor": 0,
  "metadata": {
    "colab": {
      "provenance": []
    },
    "kernelspec": {
      "name": "python3",
      "display_name": "Python 3"
    },
    "language_info": {
      "name": "python"
    }
  },
  "cells": [
    {
      "cell_type": "code",
      "source": [
        "import numpy as np\n",
        "from sklearn.datasets import load_digits\n",
        "from sklearn.model_selection import train_test_split, GridSearchCV, RandomizedSearchCV\n",
        "from sklearn.ensemble import RandomForestClassifier\n",
        "from sklearn.linear_model import LogisticRegression\n",
        "from sklearn.svm import SVC\n",
        "from sklearn.metrics import accuracy_score, precision_score, recall_score, f1_score, confusion_matrix\n",
        "from sklearn.preprocessing import StandardScaler\n",
        "from scipy.stats import randint\n",
        "import pandas as pd\n",
        "import seaborn as sns\n",
        "import matplotlib.pyplot as plt"
      ],
      "metadata": {
        "id": "UNUbv_IjgbJ7"
      },
      "execution_count": 28,
      "outputs": []
    },
    {
      "cell_type": "code",
      "source": [
        "# Load Digits dataset\n",
        "data = load_digits()\n",
        "X, y = data.data, data.target\n",
        "\n",
        "# Add noise\n",
        "X += np.random.normal(0, 0.2, X.shape)\n",
        "\n",
        "# Scale the features\n",
        "scaler = StandardScaler()\n",
        "X = scaler.fit_transform(X)\n",
        "\n",
        "# Split the data with reduced training size\n",
        "X_train, X_test, y_train, y_test = train_test_split(X, y, test_size=0.2, train_size=0.3, random_state=42)"
      ],
      "metadata": {
        "id": "3kAmX3jvgboG"
      },
      "execution_count": 29,
      "outputs": []
    },
    {
      "cell_type": "code",
      "source": [
        "# Define models and hyperparameter grids\n",
        "models = {\n",
        "    'Random Forest': {\n",
        "        'model': RandomForestClassifier(random_state=42),\n",
        "        'param_grid': {\n",
        "            'n_estimators': [5, 10, 50, 100, 200, 500],\n",
        "            'max_depth': [None, 3, 5, 10, 20, 50],\n",
        "            'min_samples_split': [2, 5, 10, 20, 50]\n",
        "        },\n",
        "        'param_dist': {\n",
        "            'n_estimators': randint(5, 1000),\n",
        "            'max_depth': [None, 3, 5, 10, 20, 30, 50],\n",
        "            'min_samples_split': randint(2, 100)\n",
        "        }\n",
        "    },\n",
        "    'Logistic Regression': {\n",
        "        'model': LogisticRegression(max_iter=1000, random_state=42),\n",
        "        'param_grid': {\n",
        "            'C': [0.0001, 0.001, 0.01, 0.1, 1, 10, 100, 1000],\n",
        "            'solver': ['lbfgs', 'liblinear']\n",
        "        },\n",
        "        'param_dist': {\n",
        "            'C': np.logspace(-5, 5, 100),\n",
        "            'solver': ['lbfgs', 'liblinear']\n",
        "        }\n",
        "    },\n",
        "    'SVM': {\n",
        "        'model': SVC(random_state=42),\n",
        "        'param_grid': {\n",
        "            'C': [0.0001, 0.001, 0.01, 0.1, 1, 10, 100, 1000],\n",
        "            'kernel': ['linear', 'rbf']\n",
        "        },\n",
        "        'param_dist': {\n",
        "            'C': np.logspace(-5, 5, 100),\n",
        "            'kernel': ['linear', 'rbf']\n",
        "        }\n",
        "    }\n",
        "}"
      ],
      "metadata": {
        "id": "5lJF8cL6gdmX"
      },
      "execution_count": 30,
      "outputs": []
    },
    {
      "cell_type": "code",
      "source": [
        "# Dictionary to store results\n",
        "results = {}"
      ],
      "metadata": {
        "id": "h7l156uOgg6D"
      },
      "execution_count": 31,
      "outputs": []
    },
    {
      "cell_type": "code",
      "source": [
        "# Train and evaluate default models\n",
        "for model_name, config in models.items():\n",
        "    print(f\"\\nTraining {model_name} (Default)...\")\n",
        "    default_model = config['model']\n",
        "    default_model.fit(X_train, y_train)\n",
        "    y_pred_default = default_model.predict(X_test)\n",
        "\n",
        "    results[f\"{model_name} (Default)\"] = {\n",
        "        'Accuracy': accuracy_score(y_test, y_pred_default),\n",
        "        'Precision': precision_score(y_test, y_pred_default, average='weighted'),\n",
        "        'Recall': recall_score(y_test, y_pred_default, average='weighted'),\n",
        "        'F1-Score': f1_score(y_test, y_pred_default, average='weighted')\n",
        "    }"
      ],
      "metadata": {
        "colab": {
          "base_uri": "https://localhost:8080/"
        },
        "id": "hOKpGBi0gi69",
        "outputId": "bb738287-5ace-44ff-fbce-509280357763"
      },
      "execution_count": 32,
      "outputs": [
        {
          "output_type": "stream",
          "name": "stdout",
          "text": [
            "\n",
            "Training Random Forest (Default)...\n",
            "\n",
            "Training Logistic Regression (Default)...\n",
            "\n",
            "Training SVM (Default)...\n"
          ]
        }
      ]
    },
    {
      "cell_type": "code",
      "source": [
        "# GridSearchCV tuning\n",
        "for model_name, config in models.items():\n",
        "    print(f\"\\nTuning {model_name} with GridSearchCV...\")\n",
        "    grid_search = GridSearchCV(\n",
        "        estimator=config['model'],\n",
        "        param_grid=config['param_grid'],\n",
        "        cv=5,\n",
        "        scoring='accuracy',\n",
        "        n_jobs=-1\n",
        "    )\n",
        "    grid_search.fit(X_train, y_train)\n",
        "    best_grid_model = grid_search.best_estimator_\n",
        "    y_pred_grid = best_grid_model.predict(X_test)\n",
        "\n",
        "    results[f\"{model_name} (GridSearchCV)\"] = {\n",
        "        'Accuracy': accuracy_score(y_test, y_pred_grid),\n",
        "        'Precision': precision_score(y_test, y_pred_grid, average='weighted'),\n",
        "        'Recall': recall_score(y_test, y_pred_grid, average='weighted'),\n",
        "        'F1-Score': f1_score(y_test, y_pred_grid, average='weighted'),\n",
        "        'Best Parameters': grid_search.best_params_\n",
        "    }"
      ],
      "metadata": {
        "colab": {
          "base_uri": "https://localhost:8080/"
        },
        "id": "g775hHPGglEt",
        "outputId": "8cbcc23a-e006-4d2a-c2be-e6dec65c9293"
      },
      "execution_count": 33,
      "outputs": [
        {
          "output_type": "stream",
          "name": "stdout",
          "text": [
            "\n",
            "Tuning Random Forest with GridSearchCV...\n",
            "\n",
            "Tuning Logistic Regression with GridSearchCV...\n",
            "\n",
            "Tuning SVM with GridSearchCV...\n"
          ]
        }
      ]
    },
    {
      "cell_type": "code",
      "source": [
        "# RandomizedSearchCV tuning\n",
        "for model_name, config in models.items():\n",
        "    print(f\"\\nTuning {model_name} with RandomizedSearchCV...\")\n",
        "    random_search = RandomizedSearchCV(\n",
        "        estimator=config['model'],\n",
        "        param_distributions=config['param_dist'],\n",
        "        n_iter=30,\n",
        "        cv=5,\n",
        "        scoring='accuracy',\n",
        "        n_jobs=-1,\n",
        "        random_state=42\n",
        "    )\n",
        "    random_search.fit(X_train, y_train)\n",
        "    best_random_model = random_search.best_estimator_\n",
        "    y_pred_random = best_random_model.predict(X_test)\n",
        "\n",
        "    results[f\"{model_name} (RandomizedSearchCV)\"] = {\n",
        "        'Accuracy': accuracy_score(y_test, y_pred_random),\n",
        "        'Precision': precision_score(y_test, y_pred_random, average='weighted'),\n",
        "        'Recall': recall_score(y_test, y_pred_random, average='weighted'),\n",
        "        'F1-Score': f1_score(y_test, y_pred_random, average='weighted'),\n",
        "        'Best Parameters': random_search.best_params_\n",
        "    }"
      ],
      "metadata": {
        "colab": {
          "base_uri": "https://localhost:8080/"
        },
        "id": "zsNXV0VognOr",
        "outputId": "3fa48d98-e859-4ad1-aece-4bee589f8c0a"
      },
      "execution_count": 34,
      "outputs": [
        {
          "output_type": "stream",
          "name": "stdout",
          "text": [
            "\n",
            "Tuning Random Forest with RandomizedSearchCV...\n",
            "\n",
            "Tuning Logistic Regression with RandomizedSearchCV...\n",
            "\n",
            "Tuning SVM with RandomizedSearchCV...\n"
          ]
        }
      ]
    },
    {
      "cell_type": "code",
      "source": [
        "# Print results\n",
        "print(\"\\nModel Performance Comparison:\")\n",
        "for model_name, metrics in results.items():\n",
        "    print(f\"\\n{model_name}:\")\n",
        "    for metric, value in metrics.items():\n",
        "        print(f\"{metric}: {value}\")\n",
        "\n",
        "# Select the best model based on F1-Score\n",
        "best_model_name = max(results, key=lambda x: results[x]['F1-Score'])\n",
        "print(f\"\\nBest Model: {best_model_name}\")\n",
        "print(\"Performance Metrics:\")\n",
        "for metric, value in results[best_model_name].items():\n",
        "    print(f\"{metric}: {value}\")\n",
        "\n",
        "# Visualize confusion matrix for the best model\n",
        "cm = confusion_matrix(y_test, best_random_model.predict(X_test))\n",
        "sns.heatmap(cm, annot=True, fmt='d')\n",
        "plt.xlabel('Predicted')\n",
        "plt.ylabel('True')\n",
        "plt.title(f'Confusion Matrix for {best_model_name}')\n",
        "plt.show()"
      ],
      "metadata": {
        "colab": {
          "base_uri": "https://localhost:8080/",
          "height": 1000
        },
        "id": "g21LJWV_gpjC",
        "outputId": "fab3c64c-fffd-4ac8-e568-aaabe69f6bc9"
      },
      "execution_count": 35,
      "outputs": [
        {
          "output_type": "stream",
          "name": "stdout",
          "text": [
            "\n",
            "Model Performance Comparison:\n",
            "\n",
            "Random Forest (Default):\n",
            "Accuracy: 0.9583333333333334\n",
            "Precision: 0.9599356637339093\n",
            "Recall: 0.9583333333333334\n",
            "F1-Score: 0.9585387030782164\n",
            "\n",
            "Logistic Regression (Default):\n",
            "Accuracy: 0.9555555555555556\n",
            "Precision: 0.9557104426510149\n",
            "Recall: 0.9555555555555556\n",
            "F1-Score: 0.9555522381060527\n",
            "\n",
            "SVM (Default):\n",
            "Accuracy: 0.975\n",
            "Precision: 0.9756918814780063\n",
            "Recall: 0.975\n",
            "F1-Score: 0.9749921163594136\n",
            "\n",
            "Random Forest (GridSearchCV):\n",
            "Accuracy: 0.9583333333333334\n",
            "Precision: 0.9598375281833929\n",
            "Recall: 0.9583333333333334\n",
            "F1-Score: 0.9584590015197816\n",
            "Best Parameters: {'max_depth': None, 'min_samples_split': 2, 'n_estimators': 500}\n",
            "\n",
            "Logistic Regression (GridSearchCV):\n",
            "Accuracy: 0.9555555555555556\n",
            "Precision: 0.9557104426510149\n",
            "Recall: 0.9555555555555556\n",
            "F1-Score: 0.9555522381060527\n",
            "Best Parameters: {'C': 1, 'solver': 'lbfgs'}\n",
            "\n",
            "SVM (GridSearchCV):\n",
            "Accuracy: 0.9611111111111111\n",
            "Precision: 0.9621360015929907\n",
            "Recall: 0.9611111111111111\n",
            "F1-Score: 0.961055774813102\n",
            "Best Parameters: {'C': 0.1, 'kernel': 'linear'}\n",
            "\n",
            "Random Forest (RandomizedSearchCV):\n",
            "Accuracy: 0.9583333333333334\n",
            "Precision: 0.960034630912256\n",
            "Recall: 0.9583333333333334\n",
            "F1-Score: 0.9585100657866761\n",
            "Best Parameters: {'max_depth': None, 'min_samples_split': 4, 'n_estimators': 489}\n",
            "\n",
            "Logistic Regression (RandomizedSearchCV):\n",
            "Accuracy: 0.9527777777777777\n",
            "Precision: 0.9536266390614218\n",
            "Recall: 0.9527777777777777\n",
            "F1-Score: 0.9529315242999966\n",
            "Best Parameters: {'solver': 'lbfgs', 'C': np.float64(0.1747528400007683)}\n",
            "\n",
            "SVM (RandomizedSearchCV):\n",
            "Accuracy: 0.9722222222222222\n",
            "Precision: 0.9721685429300371\n",
            "Recall: 0.9722222222222222\n",
            "F1-Score: 0.972116057094511\n",
            "Best Parameters: {'kernel': 'linear', 'C': np.float64(0.027185882427329403)}\n",
            "\n",
            "Best Model: SVM (Default)\n",
            "Performance Metrics:\n",
            "Accuracy: 0.975\n",
            "Precision: 0.9756918814780063\n",
            "Recall: 0.975\n",
            "F1-Score: 0.9749921163594136\n"
          ]
        },
        {
          "output_type": "display_data",
          "data": {
            "text/plain": [
              "<Figure size 640x480 with 2 Axes>"
            ],
            "image/png": "[encoded data removed]"
          },
          "metadata": {}
        }
      ]
    },
    {
      "cell_type": "code",
      "source": [],
      "metadata": {
        "id": "lg40ODiWgr0l"
      },
      "execution_count": null,
      "outputs": []
    }
  ]
}